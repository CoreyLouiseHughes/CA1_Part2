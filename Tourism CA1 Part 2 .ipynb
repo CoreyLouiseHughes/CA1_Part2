{
 "cells": [
  {
   "cell_type": "code",
   "execution_count": 8,
   "id": "720a16bb",
   "metadata": {},
   "outputs": [],
   "source": [
    "#importing all of the libraries that will be needed\n",
    "import pandas as pd \n",
    "import numpy as np\n",
    "import seaborn as sns #visualisation\n",
    "import matplotlib.pyplot as plt #visualisation\n",
    "%matplotlib inline \n",
    "sns.set(color_codes=True)\n",
    "import statistics as stats"
   ]
  },
  {
   "cell_type": "code",
   "execution_count": 9,
   "id": "2f323d52",
   "metadata": {},
   "outputs": [],
   "source": [
    "#Read files from the URL into the pandas DataFrame\n",
    "# make sure to reference where you got the dataswt (CSO - Tourism)\n",
    "url = \"spending.csv\"\n",
    "df = pd.read_csv(url) "
   ]
  },
  {
   "cell_type": "code",
   "execution_count": 10,
   "id": "640670de",
   "metadata": {},
   "outputs": [
    {
     "data": {
      "text/html": [
       "<div>\n",
       "<style scoped>\n",
       "    .dataframe tbody tr th:only-of-type {\n",
       "        vertical-align: middle;\n",
       "    }\n",
       "\n",
       "    .dataframe tbody tr th {\n",
       "        vertical-align: top;\n",
       "    }\n",
       "\n",
       "    .dataframe thead th {\n",
       "        text-align: right;\n",
       "    }\n",
       "</style>\n",
       "<table border=\"1\" class=\"dataframe\">\n",
       "  <thead>\n",
       "    <tr style=\"text-align: right;\">\n",
       "      <th></th>\n",
       "      <th>Statistic Label</th>\n",
       "      <th>Year</th>\n",
       "      <th>Month</th>\n",
       "      <th>Residency</th>\n",
       "      <th>Expenditure Type</th>\n",
       "      <th>UNIT</th>\n",
       "      <th>VALUE</th>\n",
       "    </tr>\n",
       "  </thead>\n",
       "  <tbody>\n",
       "    <tr>\n",
       "      <th>0</th>\n",
       "      <td>Expenditure of Overnight Foreign Visitors</td>\n",
       "      <td>2023</td>\n",
       "      <td>April</td>\n",
       "      <td>Great Britain (England, Scotland &amp; Wales)</td>\n",
       "      <td>Fare</td>\n",
       "      <td>Euro Million</td>\n",
       "      <td>28.3</td>\n",
       "    </tr>\n",
       "    <tr>\n",
       "      <th>1</th>\n",
       "      <td>Expenditure of Overnight Foreign Visitors</td>\n",
       "      <td>2023</td>\n",
       "      <td>April</td>\n",
       "      <td>Great Britain (England, Scotland &amp; Wales)</td>\n",
       "      <td>Prepayments</td>\n",
       "      <td>Euro Million</td>\n",
       "      <td>1.9</td>\n",
       "    </tr>\n",
       "    <tr>\n",
       "      <th>2</th>\n",
       "      <td>Expenditure of Overnight Foreign Visitors</td>\n",
       "      <td>2023</td>\n",
       "      <td>April</td>\n",
       "      <td>Great Britain (England, Scotland &amp; Wales)</td>\n",
       "      <td>Accommodation</td>\n",
       "      <td>Euro Million</td>\n",
       "      <td>27.9</td>\n",
       "    </tr>\n",
       "    <tr>\n",
       "      <th>3</th>\n",
       "      <td>Expenditure of Overnight Foreign Visitors</td>\n",
       "      <td>2023</td>\n",
       "      <td>April</td>\n",
       "      <td>Great Britain (England, Scotland &amp; Wales)</td>\n",
       "      <td>Day-to-Day Expenditure</td>\n",
       "      <td>Euro Million</td>\n",
       "      <td>57.8</td>\n",
       "    </tr>\n",
       "    <tr>\n",
       "      <th>4</th>\n",
       "      <td>Expenditure of Overnight Foreign Visitors</td>\n",
       "      <td>2023</td>\n",
       "      <td>April</td>\n",
       "      <td>Great Britain (England, Scotland &amp; Wales)</td>\n",
       "      <td>All Travel Expenditure</td>\n",
       "      <td>Euro Million</td>\n",
       "      <td>116.0</td>\n",
       "    </tr>\n",
       "  </tbody>\n",
       "</table>\n",
       "</div>"
      ],
      "text/plain": [
       "                             Statistic Label  Year  Month  \\\n",
       "0  Expenditure of Overnight Foreign Visitors  2023  April   \n",
       "1  Expenditure of Overnight Foreign Visitors  2023  April   \n",
       "2  Expenditure of Overnight Foreign Visitors  2023  April   \n",
       "3  Expenditure of Overnight Foreign Visitors  2023  April   \n",
       "4  Expenditure of Overnight Foreign Visitors  2023  April   \n",
       "\n",
       "                                   Residency        Expenditure Type  \\\n",
       "0  Great Britain (England, Scotland & Wales)                    Fare   \n",
       "1  Great Britain (England, Scotland & Wales)             Prepayments   \n",
       "2  Great Britain (England, Scotland & Wales)           Accommodation   \n",
       "3  Great Britain (England, Scotland & Wales)  Day-to-Day Expenditure   \n",
       "4  Great Britain (England, Scotland & Wales)  All Travel Expenditure   \n",
       "\n",
       "           UNIT  VALUE  \n",
       "0  Euro Million   28.3  \n",
       "1  Euro Million    1.9  \n",
       "2  Euro Million   27.9  \n",
       "3  Euro Million   57.8  \n",
       "4  Euro Million  116.0  "
      ]
     },
     "execution_count": 10,
     "metadata": {},
     "output_type": "execute_result"
    }
   ],
   "source": [
    "df.head()"
   ]
  },
  {
   "cell_type": "code",
   "execution_count": null,
   "id": "d97bdc5d",
   "metadata": {},
   "outputs": [],
   "source": []
  }
 ],
 "metadata": {
  "kernelspec": {
   "display_name": "Python 3 (ipykernel)",
   "language": "python",
   "name": "python3"
  },
  "language_info": {
   "codemirror_mode": {
    "name": "ipython",
    "version": 3
   },
   "file_extension": ".py",
   "mimetype": "text/x-python",
   "name": "python",
   "nbconvert_exporter": "python",
   "pygments_lexer": "ipython3",
   "version": "3.11.5"
  }
 },
 "nbformat": 4,
 "nbformat_minor": 5
}
